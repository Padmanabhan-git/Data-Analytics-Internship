{
 "cells": [
  {
   "cell_type": "markdown",
   "id": "fda8280f",
   "metadata": {},
   "source": [
    "# Customer Personality Analysis - Synthetic Dataset\n",
    "This notebook contains EDA and the cleaning pipeline used to prepare the dataset for analysis."
   ]
  },
  {
   "cell_type": "code",
   "execution_count": null,
   "id": "4ee80098",
   "metadata": {},
   "outputs": [],
   "source": [
    "import pandas as pd\n",
    "import matplotlib.pyplot as plt\n",
    "\n",
    "orig = pd.read_csv('original_dataset.csv')\n",
    "orig.head()"
   ]
  },
  {
   "cell_type": "markdown",
   "id": "fffa65dc",
   "metadata": {},
   "source": [
    "## Basic EDA"
   ]
  },
  {
   "cell_type": "code",
   "execution_count": null,
   "id": "f3dc2ca4",
   "metadata": {},
   "outputs": [],
   "source": [
    "print('Rows, Columns:', orig.shape)\n",
    "print('\\nMissing values per column:')\n",
    "print(orig.isnull().sum())"
   ]
  },
  {
   "cell_type": "markdown",
   "id": "3ff5f250",
   "metadata": {},
   "source": [
    "## Plots (examples)"
   ]
  },
  {
   "cell_type": "code",
   "execution_count": null,
   "id": "701cd066",
   "metadata": {},
   "outputs": [],
   "source": [
    "age = pd.to_numeric(orig['Age'], errors='coerce')\n",
    "plt.figure()\n",
    "plt.hist(age.dropna(), bins=15)\n",
    "plt.title('Age distribution')\n",
    "plt.xlabel('Age')\n",
    "plt.ylabel('Count')\n",
    "plt.show()"
   ]
  },
  {
   "cell_type": "markdown",
   "id": "d4a51209",
   "metadata": {},
   "source": [
    "## Cleaning Steps (implemented below)"
   ]
  },
  {
   "cell_type": "code",
   "execution_count": null,
   "id": "33afd1d6",
   "metadata": {},
   "outputs": [],
   "source": [
    "print('Cleaning steps applied programmatically and saved to cleaned_dataset.csv')"
   ]
  },
  {
   "cell_type": "code",
   "execution_count": null,
   "id": "165ceee7",
   "metadata": {},
   "outputs": [],
   "source": [
    "cleaned = pd.read_csv('cleaned_dataset.csv')\n",
    "cleaned.head()"
   ]
  }
 ],
 "metadata": {},
 "nbformat": 4,
 "nbformat_minor": 5
}
